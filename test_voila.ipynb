import ipywidgets as widgets
from IPython.display import display

print("Hello, Voila!")

button = widgets.Button(description="Click Me")
output = widgets.Output()

display(button, output)

def on_button_clicked(b):
    with output:
        print("Button clicked!")

button.on_click(on_button_clicked)
